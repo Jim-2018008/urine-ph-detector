{
 "cells": [
  {
   "cell_type": "code",
   "execution_count": 1,
   "id": "fd71c4d3-1c26-4a35-9db6-251816a09eb7",
   "metadata": {},
   "outputs": [
    {
     "data": {
      "text/plain": [
       "['knn_model.pkl']"
      ]
     },
     "execution_count": 1,
     "metadata": {},
     "output_type": "execute_result"
    }
   ],
   "source": [
    "import pandas as pd\n",
    "from sklearn.neighbors import KNeighborsClassifier\n",
    "from sklearn import preprocessing\n",
    "import joblib\n",
    "import numpy as np\n",
    "from sklearn.model_selection import train_test_split\n",
    "\n",
    "# Load your dataset\n",
    "df = pd.read_csv('ph-data.csv')\n",
    "x = df.iloc[:, :-1]\n",
    "y = df.iloc[:, -1]\n",
    "\n",
    "x_train,x_test,y_train,y_test=train_test_split(x,y,test_size=0.01,random_state=24)\n",
    "\n",
    "from sklearn import preprocessing\n",
    "X_train_normalized = preprocessing.normalize(x_train)\n",
    "X_test_normalized = preprocessing.normalize(x_test)\n",
    "\n",
    "# k-Nearest Neighbors (KNN)\n",
    "knn_model = KNeighborsClassifier(n_neighbors=10, weights=None, algorithm='ball_tree')\n",
    "knn_model.fit(X_train_normalized, y_train)\n",
    "\n",
    "# Dump the trained model as a pickle file\n",
    "joblib.dump(knn_model, 'knn_model.pkl')\n"
   ]
  }
 ],
 "metadata": {
  "kernelspec": {
   "display_name": "Python 3 (ipykernel)",
   "language": "python",
   "name": "python3"
  },
  "language_info": {
   "codemirror_mode": {
    "name": "ipython",
    "version": 3
   },
   "file_extension": ".py",
   "mimetype": "text/x-python",
   "name": "python",
   "nbconvert_exporter": "python",
   "pygments_lexer": "ipython3",
   "version": "3.11.8"
  }
 },
 "nbformat": 4,
 "nbformat_minor": 5
}
